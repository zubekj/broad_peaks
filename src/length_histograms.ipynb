{
 "cells": [
  {
   "cell_type": "code",
   "execution_count": 1,
   "metadata": {
    "collapsed": false
   },
   "outputs": [],
   "source": [
    "import pandas as pd\n",
    "import numpy as np\n",
    "import re\n",
    "from matplotlib import pyplot as plt\n",
    "from scipy import stats\n",
    "\n",
    "import seaborn as sns\n",
    "\n",
    "%matplotlib inline"
   ]
  },
  {
   "cell_type": "code",
   "execution_count": 2,
   "metadata": {
    "collapsed": true
   },
   "outputs": [],
   "source": [
    "def load_domain_lengths(fname):\n",
    "    data = pd.read_csv(fname, sep=\"\\t\")\n",
    "    data = data.fillna(0)\n",
    "\n",
    "    return (data[\"end\"]-data[\"begin\"]).values\n",
    "\n",
    "def load_interacting_segments_length(fname):\n",
    "    int_re = re.compile(\"(.*):(.*)\\.\\.(.*)-(.*):(.*)\\.\\.(.*),.*\")\n",
    "    \n",
    "    int_data = pd.read_csv(fname, sep=\"\\t\", header=None)\n",
    "    \n",
    "    lengths = []\n",
    "    for v in int_data[3]:\n",
    "        g = int_re.match(v).groups()\n",
    "        lengths.append(int(g[2])-int(g[1]))\n",
    "        lengths.append(int(g[5])-int(g[4]))\n",
    "    \n",
    "    return np.array(lengths)"
   ]
  },
  {
   "cell_type": "code",
   "execution_count": 5,
   "metadata": {
    "collapsed": true
   },
   "outputs": [],
   "source": [
    "def plot_histogram(lengths):\n",
    "    plt.hist(lengths, bins=lengths.max())\n",
    "    plt.yscale('symlog')"
   ]
  },
  {
   "cell_type": "markdown",
   "metadata": {},
   "source": [
    "## MCF7 interactions"
   ]
  },
  {
   "cell_type": "code",
   "execution_count": 3,
   "metadata": {
    "collapsed": false
   },
   "outputs": [
    {
     "name": "stdout",
     "output_type": "stream",
     "text": [
      "Min: 1500 Max: 105845 Mode: 1520\n"
     ]
    },
    {
     "ename": "KeyboardInterrupt",
     "evalue": "",
     "output_type": "error",
     "traceback": [
      "Traceback (most recent call last):\n",
      "  File \"/usr/lib/python2.7/site-packages/IPython/kernel/zmq/ipkernel.py\", line 181, in do_execute\n    shell.run_cell(code, store_history=store_history, silent=silent)\n",
      "  File \"/usr/lib/python2.7/site-packages/IPython/core/interactiveshell.py\", line 2877, in run_cell\n    self.events.trigger('post_execute')\n",
      "  File \"/usr/lib/python2.7/site-packages/IPython/core/events.py\", line 74, in trigger\n    func(*args, **kwargs)\n",
      "  File \"/usr/lib/python2.7/site-packages/IPython/kernel/zmq/pylab/backend_inline.py\", line 109, in flush_figures\n    return show(True)\n",
      "  File \"/usr/lib/python2.7/site-packages/IPython/kernel/zmq/pylab/backend_inline.py\", line 32, in show\n    display(figure_manager.canvas.figure)\n",
      "  File \"/usr/lib/python2.7/site-packages/IPython/core/display.py\", line 159, in display\n    format_dict, md_dict = format(obj, include=include, exclude=exclude)\n",
      "  File \"/usr/lib/python2.7/site-packages/IPython/core/formatters.py\", line 174, in format\n    data = formatter(obj)\n",
      "  File \"<string>\", line 2, in __call__\n",
      "  File \"/usr/lib/python2.7/site-packages/IPython/core/formatters.py\", line 219, in catch_format_error\n    r = method(self, *args, **kwargs)\n",
      "  File \"/usr/lib/python2.7/site-packages/IPython/core/formatters.py\", line 330, in __call__\n    return printer(obj)\n",
      "  File \"/usr/lib/python2.7/site-packages/IPython/core/pylabtools.py\", line 207, in <lambda>\n    png_formatter.for_type(Figure, lambda fig: print_figure(fig, 'png', **kwargs))\n",
      "  File \"/usr/lib/python2.7/site-packages/IPython/core/pylabtools.py\", line 117, in print_figure\n    fig.canvas.print_figure(bytes_io, **kw)\n",
      "  File \"/usr/lib/python2.7/site-packages/matplotlib/backend_bases.py\", line 2141, in print_figure\n    **kwargs)\n",
      "  File \"/usr/lib/python2.7/site-packages/matplotlib/backends/backend_agg.py\", line 521, in print_png\n    FigureCanvasAgg.draw(self)\n",
      "  File \"/usr/lib/python2.7/site-packages/matplotlib/backends/backend_agg.py\", line 469, in draw\n    self.figure.draw(self.renderer)\n",
      "  File \"/usr/lib/python2.7/site-packages/matplotlib/artist.py\", line 59, in draw_wrapper\n    draw(artist, renderer, *args, **kwargs)\n",
      "  File \"/usr/lib/python2.7/site-packages/matplotlib/figure.py\", line 1079, in draw\n    func(*args)\n",
      "  File \"/usr/lib/python2.7/site-packages/matplotlib/artist.py\", line 59, in draw_wrapper\n    draw(artist, renderer, *args, **kwargs)\n",
      "  File \"/usr/lib/python2.7/site-packages/matplotlib/axes/_base.py\", line 2092, in draw\n    a.draw(renderer)\n",
      "  File \"/usr/lib/python2.7/site-packages/matplotlib/artist.py\", line 59, in draw_wrapper\n    draw(artist, renderer, *args, **kwargs)\n",
      "  File \"/usr/lib/python2.7/site-packages/matplotlib/patches.py\", line 472, in draw\n    tpath = transform.transform_path_non_affine(path)\n",
      "  File \"/usr/lib/python2.7/site-packages/matplotlib/transforms.py\", line 2271, in transform_path_non_affine\n    self._a.transform_path(path))\n",
      "  File \"/usr/lib/python2.7/site-packages/matplotlib/transforms.py\", line 2268, in transform_path_non_affine\n    return self._a.transform_path_non_affine(path)\n",
      "  File \"/usr/lib/python2.7/site-packages/matplotlib/transforms.py\", line 1375, in transform_path_non_affine\n    return Path(self.transform_non_affine(path.vertices), path.codes,\n",
      "  File \"/usr/lib/python2.7/site-packages/matplotlib/transforms.py\", line 2052, in transform_non_affine\n    y_points = y_points.reshape((len(y_points), 1))\n",
      "  File \"/usr/lib/python2.7/site-packages/numpy/ma/core.py\", line 4129, in reshape\n    result = self._data.reshape(*s, **kwargs).view(type(self))\n",
      "  File \"/usr/lib/python2.7/site-packages/numpy/ma/core.py\", line 2835, in __array_finalize__\n    != self.__array_interface__[\"data\"][0]):\n",
      "KeyboardInterrupt\n"
     ]
    }
   ],
   "source": [
    "y = load_interacting_segments_length(\"../data/ChIAPET/wgEncodeGisChiaPetMcf7Pol2InteractionsRep3.bed\")\n",
    "plot_histogram(y)\n",
    "print(\"Min: {0} Max: {1} Mode: {2}\".format(y.min(), y.max(), stats.mode(y)[0][0]))"
   ]
  },
  {
   "cell_type": "markdown",
   "metadata": {},
   "source": [
    "## K562 interactions"
   ]
  },
  {
   "cell_type": "code",
   "execution_count": null,
   "metadata": {
    "collapsed": false
   },
   "outputs": [],
   "source": [
    "y = load_interacting_segments_length(\"../data/HelaS3_k562_ChIAPET/GSM970213_hg19_wgEncodeGisChiaPetK562Pol2InteractionsRep2.bed\")\n",
    "plot_histogram(y)\n",
    "print(\"Min: {0} Max: {1} Mode: {2}\".format(y.min(), y.max(), stats.mode(y)[0][0]))"
   ]
  },
  {
   "cell_type": "markdown",
   "metadata": {},
   "source": [
    "## HeLa interactions"
   ]
  },
  {
   "cell_type": "code",
   "execution_count": null,
   "metadata": {
    "collapsed": false
   },
   "outputs": [],
   "source": [
    "y = load_interacting_segments_length(\"../data/HelaS3_k562_ChIAPET/GSM970211_hg19_wgEncodeGisChiaPetHelas3Pol2InteractionsRep1.bed\")\n",
    "plot_histogram(y)\n",
    "print(\"Min: {0} Max: {1} Mode: {2}\".format(y.min(), y.max(), stats.mode(y)[0][0]))"
   ]
  },
  {
   "cell_type": "markdown",
   "metadata": {},
   "source": [
    "## MCF7 H3K27ac"
   ]
  },
  {
   "cell_type": "code",
   "execution_count": null,
   "metadata": {
    "collapsed": false
   },
   "outputs": [],
   "source": [
    "y = load_domain_lengths(\"../data/processed_peaks/MCF7/MCF7_H3K27ac_mods.csv\")\n",
    "plot_histogram(y)\n",
    "print(\"Min: {0} Max: {1} Mode: {2}\".format(y.min(), y.max(), stats.mode(y)[0][0]))"
   ]
  },
  {
   "cell_type": "markdown",
   "metadata": {},
   "source": [
    "## MCF7 H3K4me3"
   ]
  },
  {
   "cell_type": "code",
   "execution_count": null,
   "metadata": {
    "collapsed": false
   },
   "outputs": [],
   "source": [
    "y = load_domain_lengths(\"../data/processed_peaks/MCF7/MCF7_H3K4me3_mods.csv\")\n",
    "plot_histogram(y)\n",
    "print(\"Min: {0} Max: {1} Mode: {2}\".format(y.min(), y.max(), stats.mode(y)[0][0]))\n",
    "\n",
    "fig = plt.gcf()\n",
    "fig.savefig('histogram.png', dpi=300)"
   ]
  },
  {
   "cell_type": "markdown",
   "metadata": {},
   "source": [
    "## K562 H3K27ac"
   ]
  },
  {
   "cell_type": "code",
   "execution_count": null,
   "metadata": {
    "collapsed": false
   },
   "outputs": [],
   "source": [
    "y = load_domain_lengths(\"../data/processed_peaks/K562/K562_H3K27ac_mods.csv\")\n",
    "plot_histogram(y)\n",
    "print(\"Min: {0} Max: {1} Mode: {2}\".format(y.min(), y.max(), stats.mode(y)[0][0]))"
   ]
  },
  {
   "cell_type": "markdown",
   "metadata": {},
   "source": [
    "## K562 H3K4me3"
   ]
  },
  {
   "cell_type": "code",
   "execution_count": null,
   "metadata": {
    "collapsed": false
   },
   "outputs": [],
   "source": [
    "y = load_domain_lengths(\"../data/processed_peaks/K562/K562_H3K4me3_mods.csv\")\n",
    "plot_histogram(y)\n",
    "print(\"Min: {0} Max: {1} Mode: {2}\".format(y.min(), y.max(), stats.mode(y)[0][0]))"
   ]
  },
  {
   "cell_type": "markdown",
   "metadata": {},
   "source": [
    "## HeLa H3K27ac"
   ]
  },
  {
   "cell_type": "code",
   "execution_count": null,
   "metadata": {
    "collapsed": false
   },
   "outputs": [],
   "source": [
    "y = load_domain_lengths(\"../data/processed_peaks/HeLa/HeLa_H3K27ac_mods.csv\")\n",
    "plot_histogram(y)\n",
    "print(\"Min: {0} Max: {1} Mode: {2}\".format(y.min(), y.max(), stats.mode(y)[0][0]))"
   ]
  },
  {
   "cell_type": "markdown",
   "metadata": {},
   "source": [
    "## HeLa H3K4me3"
   ]
  },
  {
   "cell_type": "code",
   "execution_count": null,
   "metadata": {
    "collapsed": false
   },
   "outputs": [],
   "source": [
    "y = load_domain_lengths(\"../data/processed_peaks/HeLa/HeLa_H3K4me3_mods.csv\")\n",
    "plot_histogram(y)\n",
    "print(\"Min: {0} Max: {1} Mode: {2}\".format(y.min(), y.max(), stats.mode(y)[0][0]))"
   ]
  },
  {
   "cell_type": "code",
   "execution_count": 6,
   "metadata": {
    "collapsed": false
   },
   "outputs": [
    {
     "data": {
      "image/png": "[encoded data removed]",
      "text/plain": [
       "<matplotlib.figure.Figure at 0x7fd6c85e2490>"
      ]
     },
     "metadata": {},
     "output_type": "display_data"
    },
    {
     "data": {
      "image/png": "[encoded data removed]",
      "text/plain": [
       "<matplotlib.figure.Figure at 0x7fd6c79a0f90>"
      ]
     },
     "metadata": {},
     "output_type": "display_data"
    }
   ],
   "source": [
    "from matplotlib.backends.backend_pdf import PdfPages\n",
    "\n",
    "pp = PdfPages(\"K562_H3K4me3_lengths.pdf\")\n",
    "fig, ax = plt.subplots()\n",
    "y = load_domain_lengths(\"../data/processed_peaks/K562/K562_H3K4me3_mods.csv\")\n",
    "plot_histogram(y)\n",
    "plt.ylabel(\"Count\")\n",
    "plt.xlabel(\"Domain length\")\n",
    "pp.savefig(fig)\n",
    "pp.close()\n",
    "\n",
    "pp = PdfPages(\"K562_H3K27ac_lengths.pdf\")\n",
    "fig, ax = plt.subplots()\n",
    "y = load_domain_lengths(\"../data/processed_peaks/K562/K562_H3K27ac_mods.csv\")\n",
    "plot_histogram(y)\n",
    "plt.ylabel(\"Count\")\n",
    "plt.xlabel(\"Domain length\")\n",
    "pp.savefig(fig)\n",
    "pp.close()"
   ]
  },
  {
   "cell_type": "code",
   "execution_count": null,
   "metadata": {
    "collapsed": true
   },
   "outputs": [],
   "source": []
  }
 ],
 "metadata": {
  "kernelspec": {
   "display_name": "Python 2",
   "language": "python",
   "name": "python2"
  },
  "language_info": {
   "codemirror_mode": {
    "name": "ipython",
    "version": 2
   },
   "file_extension": ".py",
   "mimetype": "text/x-python",
   "name": "python",
   "nbconvert_exporter": "python",
   "pygments_lexer": "ipython2",
   "version": "2.7.9"
  }
 },
 "nbformat": 4,
 "nbformat_minor": 0
}
