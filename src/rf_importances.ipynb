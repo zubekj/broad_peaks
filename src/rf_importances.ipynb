{
 "cells": [
  {
   "cell_type": "code",
   "execution_count": null,
   "metadata": {
    "collapsed": false
   },
   "outputs": [],
   "source": [
    "import pandas as pd\n",
    "import numpy as np\n",
    "from sklearn.ensemble import RandomForestRegressor\n",
    "from matplotlib import pyplot as plt\n",
    "\n",
    "%matplotlib inline"
   ]
  },
  {
   "cell_type": "code",
   "execution_count": null,
   "metadata": {
    "collapsed": false
   },
   "outputs": [],
   "source": [
    "N_ITER = 10\n",
    "\n",
    "def get_importances_cutoff(feature_names, X, y):\n",
    "    reg = RandomForestRegressor(n_estimators=50, n_jobs=8)\n",
    "\n",
    "    importances = np.zeros(X.shape[1]*2)\n",
    "    for _ in xrange(N_ITER):\n",
    "        Xc = []\n",
    "        for col in X.T:\n",
    "            Xc.append(np.random.choice(col, size=col.shape[0]))\n",
    "        Xc = np.array(Xc).T\n",
    "        Xn = np.hstack((X, Xc))\n",
    "        reg.fit(Xn, y)\n",
    "        importances += np.array(reg.feature_importances_)\n",
    "        \n",
    "    importances /= N_ITER\n",
    "    indices = np.argsort(-importances)\n",
    "\n",
    "    m = np.max(importances[indices[indices >= X.shape[1]]])\n",
    "    sd = np.std(importances[indices[indices >= X.shape[1]]])\n",
    "    diffs = importances[indices][:-1] - importances[indices][1:]\n",
    "    cutoff = importances[indices][np.where(diffs > 2*sd)[0][-1]]\n",
    "\n",
    "    indices = indices[indices < X.shape[1]]\n",
    "    \n",
    "    return feature_names[indices], importances[indices], cutoff\n",
    "\n",
    "\n",
    "def feature_ranking(fname, use_cutoff=True):\n",
    "\n",
    "    def column_filter(col):\n",
    "        return \"ifreq\" not in col\n",
    "\n",
    "    data = pd.read_csv(fname, sep=\"\\t\")\n",
    "    data = data[[\"chr\", \"begin\", \"end\"]+[col for col in data.columns[3:] if column_filter(col)]]\n",
    "    data = data.fillna(0)\n",
    "    \n",
    "    y = (data[\"end\"]-data[\"begin\"]).values\n",
    "    X = data.iloc[:, 4:]\n",
    "    \n",
    "    names, r, cutoff = get_importances_cutoff(X.columns, X.values, y)\n",
    "    \n",
    "    if not use_cutoff:\n",
    "        cutoff = 0\n",
    "    \n",
    "    r1 = r[r > cutoff]\n",
    "    r2 = r[r <= cutoff]\n",
    "    names = names[r > cutoff]\n",
    "    \n",
    "    fig, ax = plt.subplots()\n",
    "    \n",
    "    ax.bar(np.arange(r1.shape[0]), r1, color=\"blue\")\n",
    "    ax.bar(r1.shape[0]+np.arange(r2.shape[0]), r2, color=\"red\")\n",
    "    \n",
    "    return pd.DataFrame({\"RI\": r1, \"feature\": names})"
   ]
  },
  {
   "cell_type": "markdown",
   "metadata": {},
   "source": [
    "# Feature rankings"
   ]
  },
  {
   "cell_type": "markdown",
   "metadata": {},
   "source": [
    "Feature rankings contain important features as ranked by Random Forest regression. Cutoff was chosen based on so called contrast attributes - random permutations of the original attributes. Standard deviation (SD) of importance scores for contrast attributes was calculated. The last attribute in the ranking with importance larger then the importance of subsequent attribute by at least 2 SD constituted a cutoff.\n",
    "\n",
    "Plots present scores of attributes considered important (blue) and the rest of attributes falling below cutoff (red)."
   ]
  },
  {
   "cell_type": "markdown",
   "metadata": {},
   "source": [
    "## H3K4me3 K562"
   ]
  },
  {
   "cell_type": "code",
   "execution_count": null,
   "metadata": {
    "collapsed": false
   },
   "outputs": [],
   "source": [
    "feature_ranking(\"../data/processed_peaks/K562/K562_H3K4me3_mods.csv\")"
   ]
  },
  {
   "cell_type": "markdown",
   "metadata": {},
   "source": [
    "## H3K4me3 MCF7"
   ]
  },
  {
   "cell_type": "markdown",
   "metadata": {},
   "source": [
    "No cutoff was used because of small number of attributes."
   ]
  },
  {
   "cell_type": "code",
   "execution_count": null,
   "metadata": {
    "collapsed": false
   },
   "outputs": [],
   "source": [
    "feature_ranking(\"../data/processed_peaks/MCF7/MCF7_H3K4me3_mods.csv\", False)"
   ]
  },
  {
   "cell_type": "markdown",
   "metadata": {},
   "source": [
    "## H3K27ac K562"
   ]
  },
  {
   "cell_type": "code",
   "execution_count": null,
   "metadata": {
    "collapsed": false
   },
   "outputs": [],
   "source": [
    "feature_ranking(\"../data/processed_peaks/K562/K562_H3K27ac_mods.csv\")"
   ]
  },
  {
   "cell_type": "markdown",
   "metadata": {},
   "source": [
    "## H3K27ac MCF7"
   ]
  },
  {
   "cell_type": "markdown",
   "metadata": {},
   "source": [
    "No cutoff was used because of small number of attributes."
   ]
  },
  {
   "cell_type": "code",
   "execution_count": null,
   "metadata": {
    "collapsed": false
   },
   "outputs": [],
   "source": [
    "feature_ranking(\"../data/processed_peaks/MCF7/MCF7_H3K27ac_mods.csv\", False)"
   ]
  }
 ],
 "metadata": {
  "kernelspec": {
   "display_name": "Python 2",
   "language": "python",
   "name": "python2"
  },
  "language_info": {
   "codemirror_mode": {
    "name": "ipython",
    "version": 2
   },
   "file_extension": ".py",
   "mimetype": "text/x-python",
   "name": "python",
   "nbconvert_exporter": "python",
   "pygments_lexer": "ipython2",
   "version": "2.7.10"
  }
 },
 "nbformat": 4,
 "nbformat_minor": 0
}
